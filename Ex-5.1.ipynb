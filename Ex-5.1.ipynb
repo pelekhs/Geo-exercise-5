{
 "cells": [
  {
   "cell_type": "markdown",
   "metadata": {},
   "source": [
    "# Geospatial Data Analysis\n",
    "## Excercise 5.1"
   ]
  },
  {
   "cell_type": "markdown",
   "metadata": {},
   "source": [
    "I use rasterio library to import the tiff files."
   ]
  },
  {
   "cell_type": "code",
   "execution_count": 1,
   "metadata": {},
   "outputs": [
    {
     "name": "stderr",
     "output_type": "stream",
     "text": [
      "C:\\Users\\spele\\Miniconda3\\envs\\geo\\lib\\site-packages\\rasterio\\__init__.py:219: NotGeoreferencedWarning: Dataset has no geotransform set. The identity matrix may be returned.\n",
      "  s = DatasetReader(path, driver=driver, sharing=sharing, **kwargs)\n"
     ]
    }
   ],
   "source": [
    "import rasterio\n",
    "import os\n",
    "import numpy as np\n",
    "import matplotlib.pyplot as plt\n",
    "\n",
    "green = rasterio.open(os.path.join(os.getcwd(), 'data', 'partA', 'green.tif'))\n",
    "nir = rasterio.open(os.path.join(os.getcwd(), 'data', 'partA', 'nir.tif'))\n",
    "gt = rasterio.open(os.path.join(os.getcwd(), 'data', 'partA', 'gt.tif'))"
   ]
  },
  {
   "cell_type": "markdown",
   "metadata": {},
   "source": [
    "Parse raster data into numpy arrays"
   ]
  },
  {
   "cell_type": "code",
   "execution_count": null,
   "metadata": {},
   "outputs": [],
   "source": [
    "green = green.read(1)\n",
    "nir = nir.read(1)\n",
    "gt = gt.read(1)"
   ]
  },
  {
   "cell_type": "markdown",
   "metadata": {},
   "source": [
    "Some indicative plots and views of the arrays"
   ]
  },
  {
   "cell_type": "code",
   "execution_count": null,
   "metadata": {},
   "outputs": [],
   "source": [
    "print(np.shape(green))\n",
    "plt.imshow(green)"
   ]
  },
  {
   "cell_type": "code",
   "execution_count": null,
   "metadata": {},
   "outputs": [],
   "source": [
    "print(np.shape(nir))\n",
    "plt.imshow(nir)"
   ]
  },
  {
   "cell_type": "code",
   "execution_count": null,
   "metadata": {},
   "outputs": [],
   "source": [
    "print(np.shape(gt))\n",
    "plt.imshow(gt)"
   ]
  },
  {
   "cell_type": "markdown",
   "metadata": {},
   "source": [
    "I vectorize arrays"
   ]
  },
  {
   "cell_type": "code",
   "execution_count": null,
   "metadata": {},
   "outputs": [],
   "source": [
    "green = green.reshape(-1)\n",
    "nir = nir.reshape(-1)\n",
    "gt = gt.reshape(-1)\n",
    "green.shape"
   ]
  },
  {
   "cell_type": "markdown",
   "metadata": {},
   "source": [
    "And then i join green and nir together so as to use them as independent variables of the machine learning algorithm."
   ]
  },
  {
   "cell_type": "code",
   "execution_count": null,
   "metadata": {},
   "outputs": [],
   "source": [
    "X = np.stack([green, nir], axis=1)\n",
    "y = gt\n",
    "print(X.shape)\n",
    "print(gt.shape)"
   ]
  },
  {
   "cell_type": "markdown",
   "metadata": {},
   "source": [
    "### Label encoder and normalisation"
   ]
  },
  {
   "cell_type": "markdown",
   "metadata": {},
   "source": [
    "In this section I transform the y vector to 0,1 and print the numbers. I also normalise X inside [0,1]"
   ]
  },
  {
   "cell_type": "code",
   "execution_count": null,
   "metadata": {},
   "outputs": [],
   "source": [
    "from sklearn import preprocessing\n",
    "le = preprocessing.LabelEncoder()\n",
    "y = le.fit_transform(y)"
   ]
  },
  {
   "cell_type": "code",
   "execution_count": null,
   "metadata": {},
   "outputs": [],
   "source": [
    "print(\"Number of ground - positive pixels: {}\".format(list(y).count(0)))\n",
    "print(\"Number of water - negative pixels: {}\".format(list(y).count(1)))"
   ]
  },
  {
   "cell_type": "code",
   "execution_count": null,
   "metadata": {},
   "outputs": [],
   "source": [
    "from sklearn import preprocessing\n",
    "sc = preprocessing.StandardScaler()\n",
    "X = sc.fit_transform(X)"
   ]
  },
  {
   "cell_type": "markdown",
   "metadata": {},
   "source": [
    "### Train/ test split"
   ]
  },
  {
   "cell_type": "markdown",
   "metadata": {},
   "source": [
    "I split to training and validation set by equally splitting water and ground pixels using the stratify parameter. I also decided to only use a part of the data (N) for training purposes given that the dataset is very large and at the same time it is very \"easy\" to achieve high accuracies even by limiting the training to a few hundreds of lines."
   ]
  },
  {
   "cell_type": "code",
   "execution_count": null,
   "metadata": {},
   "outputs": [],
   "source": [
    "N = 1000\n",
    "from sklearn.model_selection import train_test_split\n",
    "X_train, X_test, y_train, y_test = train_test_split(X, y, test_size=0.3, random_state=69, stratify=y)\n",
    "X_train, X_test, y_train, y_test = X_train[:N,:], X_test[:N,:], y_train[:N], y_test[:N]"
   ]
  },
  {
   "cell_type": "markdown",
   "metadata": {},
   "source": [
    "### Imports"
   ]
  },
  {
   "cell_type": "code",
   "execution_count": null,
   "metadata": {},
   "outputs": [],
   "source": [
    "from sklearn.naive_bayes import GaussianNB\n",
    "from sklearn.neighbors import KNeighborsClassifier\n",
    "from sklearn.linear_model import Perceptron\n",
    "from sklearn.model_selection import GridSearchCV\n",
    "from sklearn import metrics\n",
    "import pandas as pd"
   ]
  },
  {
   "cell_type": "markdown",
   "metadata": {},
   "source": [
    "### Hyper parameter tuning"
   ]
  },
  {
   "cell_type": "markdown",
   "metadata": {},
   "source": [
    "At first we train the classifiers using the GridSearch algorithm so as to decide the best hyperparameter values based on accuracy. The Gaussian Naive bayes classifier has no significant parameters to tune."
   ]
  },
  {
   "cell_type": "code",
   "execution_count": 13,
   "metadata": {},
   "outputs": [
    {
     "name": "stdout",
     "output_type": "stream",
     "text": [
      "\n",
      "\n",
      "Tuning hyper-parameters, based on accuracy for:\n",
      " {'n_neighbors': [1, 3, 5, 7, 9, 11, 13, 15], 'weights': ['uniform', 'distance']}\n",
      "Mean performance of each parameter combination based on Cross Validation\n",
      "    n_neighbors   weights  Score\n",
      "0             1   uniform  0.997\n",
      "1             1  distance  0.997\n",
      "2             3   uniform  0.997\n",
      "3             3  distance  0.997\n",
      "4             5   uniform  0.996\n",
      "5             5  distance  0.996\n",
      "6             7   uniform  0.996\n",
      "7             7  distance  0.997\n",
      "8             9   uniform  0.997\n",
      "9             9  distance  0.997\n",
      "10           11   uniform  0.996\n",
      "11           11  distance  0.996\n",
      "12           13   uniform  0.996\n",
      "13           13  distance  0.996\n",
      "14           15   uniform  0.996\n",
      "15           15  distance  0.996\n",
      "\n",
      "Best parameters set found on training set:\n",
      "\n",
      "{'n_neighbors': 1, 'weights': 'uniform'}\n",
      "\n",
      "The scores are computed on the full evaluation set.\n",
      "\n",
      "score: 1.0\n",
      "\n",
      "\n",
      "Tuning hyper-parameters, based on accuracy for:\n",
      " {'penalty': ['l2', 'l1', 'elasticnet', None], 'early_stopping': [True, False]}\n",
      "Mean performance of each parameter combination based on Cross Validation\n",
      "   early_stopping     penalty  Score\n",
      "0            True          l2  0.996\n",
      "1            True          l1  0.996\n",
      "2            True  elasticnet  0.996\n",
      "3            True        None  0.997\n",
      "4           False          l2  0.995\n",
      "5           False          l1  0.989\n",
      "6           False  elasticnet  0.995\n",
      "7           False        None  0.996\n",
      "\n",
      "Best parameters set found on training set:\n",
      "\n",
      "{'early_stopping': True, 'penalty': None}\n",
      "\n",
      "The scores are computed on the full evaluation set.\n",
      "\n",
      "score: 0.996\n",
      "\n",
      "\n",
      "Tuning hyper-parameters, based on accuracy for:\n",
      " {'priors': [None, [0.5, 0.5], [0.1, 0.9], [1e-06, 0.99999], [1e-09, 0.99999999]]}\n",
      "Mean performance of each parameter combination based on Cross Validation\n",
      "                priors  Score\n",
      "0                 None  0.996\n",
      "1           [0.5, 0.5]  0.998\n",
      "2           [0.1, 0.9]  0.999\n",
      "3     [1e-06, 0.99999]  0.999\n",
      "4  [1e-09, 0.99999999]  0.998\n",
      "\n",
      "Best parameters set found on training set:\n",
      "\n",
      "{'priors': [0.1, 0.9]}\n",
      "\n",
      "The scores are computed on the full evaluation set.\n",
      "\n",
      "score: 0.999\n",
      "\n",
      "\n",
      "The best accuracies achieved by the 3 algorithms are: {'kNN': 1.0, 'Perceptron': 0.996, 'Gaussian Naive Bayes': 0.999}\n"
     ]
    }
   ],
   "source": [
    "#Set the parameters of each model by cross-validation gridsearch\n",
    "algorithms = [KNeighborsClassifier(), Perceptron(), GaussianNB()]\n",
    "tuned_parameters = [{'n_neighbors': [1, 3, 5, 7, 9, 11, 13, 15], 'weights': ['uniform', 'distance']},\n",
    "                    {'penalty':['l2','l1','elasticnet', None], 'early_stopping':[True, False]},\n",
    "                    {'priors':[None, [0.5,0.5], [0.1, 0.9], [0.000001,0.99999], [0.000000001,0.99999999]]}]\n",
    "\n",
    "best_scores=[]\n",
    "params=[]\n",
    "#Below I locate the best svm classifiers for each kernel and the best knn classifier and compute their score \n",
    "#on the test set \n",
    "for (a, tp) in list(zip(algorithms, tuned_parameters)):\n",
    "    print(\"\\n\\nTuning hyper-parameters, based on accuracy for:\\n\", tp)\n",
    "    clf = GridSearchCV(a, tp, cv = 5, scoring = 'accuracy', n_jobs=-1)\n",
    "    clf.fit(X_train, y_train)\n",
    "    print(\"Mean performance of each parameter combination based on Cross Validation\")\n",
    "    performance = pd.DataFrame(clf.cv_results_['params'])\n",
    "    performance[\"Score\"] = clf.cv_results_['mean_test_score']\n",
    "    print(performance)\n",
    "    print(\"\\nBest parameters set found on training set:\\n\")\n",
    "    print(clf.best_params_)\n",
    "    params.append(clf.best_params_)\n",
    "    print(\"\\nThe scores are computed on the full evaluation set.\\n\")\n",
    "    #evaluate and store scores of estimators of each category on validation set\n",
    "    score = clf.score(X_test,y_test)\n",
    "    print(\"score:\", score)\n",
    "    best_scores.append(score)\n",
    "nb = GaussianNB()\n",
    "nb.fit(X_train, y_train)\n",
    "final_scores = dict(zip(['kNN','Perceptron','Gaussian Naive Bayes'], best_scores))\n",
    "print(\"\\n\\nThe best accuracies achieved by the 3 algorithms are:\", final_scores)"
   ]
  },
  {
   "cell_type": "markdown",
   "metadata": {},
   "source": [
    "### Evaluation"
   ]
  },
  {
   "cell_type": "markdown",
   "metadata": {},
   "source": [
    "In this section I only keep the best classifiers as selected from the tuning process and evaluate them on all classification metrics except for accuracy. I resplit and this time I train all over the 70% of data. I prefered a 3-kNN as it is considered to be more robust than 1-kNN which is vulnerable to overfitting. I also set the early stopping to True for the perceptron algorithm as decided in the tunung process."
   ]
  },
  {
   "cell_type": "code",
   "execution_count": 14,
   "metadata": {},
   "outputs": [
    {
     "name": "stdout",
     "output_type": "stream",
     "text": [
      "kNN \n",
      "\n",
      "              precision    recall  f1-score   support\n",
      "\n",
      "           0    1.00000   1.00000   1.00000    223403\n",
      "           1    1.00000   1.00000   1.00000     76597\n",
      "\n",
      "    accuracy                        1.00000    300000\n",
      "   macro avg    1.00000   1.00000   1.00000    300000\n",
      "weighted avg    1.00000   1.00000   1.00000    300000\n",
      "\n",
      "Confusion matrix, without normalization\n",
      "[[223403      0]\n",
      " [     0  76597]]\n",
      "True Positives: 223403, False Positives: 0, True Negatives: 76597, False Negatives: 0 \n",
      "\n",
      "\n",
      "NB \n",
      "\n",
      "              precision    recall  f1-score   support\n",
      "\n",
      "           0    0.99757   0.99990   0.99873    223403\n",
      "           1    0.99970   0.99290   0.99629     76597\n",
      "\n",
      "    accuracy                        0.99811    300000\n",
      "   macro avg    0.99863   0.99640   0.99751    300000\n",
      "weighted avg    0.99811   0.99811   0.99811    300000\n",
      "\n",
      "Confusion matrix, without normalization\n",
      "[[223380     23]\n",
      " [   544  76053]]\n",
      "True Positives: 223380, False Positives: 23, True Negatives: 76053, False Negatives: 544 \n",
      "\n",
      "\n",
      "Perceptron \n",
      "\n",
      "              precision    recall  f1-score   support\n",
      "\n",
      "           0    1.00000   1.00000   1.00000    223403\n",
      "           1    1.00000   1.00000   1.00000     76597\n",
      "\n",
      "    accuracy                        1.00000    300000\n",
      "   macro avg    1.00000   1.00000   1.00000    300000\n",
      "weighted avg    1.00000   1.00000   1.00000    300000\n",
      "\n",
      "Confusion matrix, without normalization\n",
      "[[223403      0]\n",
      " [     0  76597]]\n",
      "True Positives: 223403, False Positives: 0, True Negatives: 76597, False Negatives: 0 \n",
      "\n",
      "\n"
     ]
    },
    {
     "data": {
      "image/png": "[encoded data removed]",
      "text/plain": [
       "<Figure size 432x288 with 2 Axes>"
      ]
     },
     "metadata": {
      "needs_background": "light"
     },
     "output_type": "display_data"
    },
    {
     "data": {
      "image/png": "[encoded data removed]",
      "text/plain": [
       "<Figure size 432x288 with 2 Axes>"
      ]
     },
     "metadata": {
      "needs_background": "light"
     },
     "output_type": "display_data"
    },
    {
     "data": {
      "image/png": "[encoded data removed]",
      "text/plain": [
       "<Figure size 432x288 with 2 Axes>"
      ]
     },
     "metadata": {
      "needs_background": "light"
     },
     "output_type": "display_data"
    }
   ],
   "source": [
    "###############################################################################\n",
    "# Evaluation with various classification metrics (classification report)\n",
    "###############################################################################\n",
    "from confusion_matrix import plot_confusion_matrix\n",
    "from sklearn.metrics import confusion_matrix\n",
    "\n",
    "X_train, X_test, y_train, y_test = train_test_split(X, y, test_size=0.3, random_state=69, stratify=y)\n",
    "#X_train, X_test, y_train, y_test = X_train[:N,:], X_test[:N,:], y_train[:N], y_test[:N]\n",
    "\n",
    "models = {'kNN': KNeighborsClassifier(n_neighbors=3),\n",
    "          'NB': GaussianNB(priors=[0.1, 0.9]),\n",
    "          'Perceptron': Perceptron(early_stopping=True)}\n",
    "# Create scores dictionary for each algorithm\n",
    "scores=[]\n",
    "mdl=[]\n",
    "results=[]\n",
    "for model in models.keys():\n",
    "    clf = models[model]\n",
    "    clf.fit(X_train,  y_train)\n",
    "    mdl.append(model)\n",
    "    y_pred = clf.predict(X_test)\n",
    "    results.append((clf.score(X_test, y_test), y_pred))\n",
    "    print (model, \"\\n\")\n",
    "    print(metrics.classification_report(y_test, y_pred, digits=5))\n",
    "    cm = confusion_matrix(y_test, y_pred)\n",
    "    plt.figure()\n",
    "    plot_confusion_matrix(cm, classes=[0,1], title=model, cmap=plt.cm.Greens)\n",
    "    print(\"True Positives: {}, False Positives: {}, True Negatives: {}, False Negatives: {} \\n\\n\".format(cm[0,0], cm[0,1], cm[1,1], cm[1,0]))"
   ]
  },
  {
   "cell_type": "markdown",
   "metadata": {},
   "source": [
    "I also plotted confusion matrices in order to be able to retrieve the TPs, TNs, FPs, TPs as required from the presentation of this excercise. \n"
   ]
  },
  {
   "cell_type": "markdown",
   "metadata": {},
   "source": [
    "### Comments"
   ]
  },
  {
   "cell_type": "markdown",
   "metadata": {},
   "source": [
    "1. Main results: \n",
    "\n",
    "    The problem is simple enough to be solved almost perfectly by simple ML algorithms. The kNN  and the perceptron algorithms for example give a flawless result. Setting the early_stopping parameter as True was of great importance in order to achive this result with the perceptron algorithm.\n",
    "\n",
    "2. Types of errors:\n",
    "\n",
    "    - TPs are considered as the positive predictions (prediction = 0 = ground) that were correct (ground truth = 0 = ground)\n",
    "    - FPs are considered as the positive predictions (prediction = 0 = ground) that weren't correct (ground truth = 1 = water)\n",
    "    - TNs are considered as the negative predictions (prediction = 1 = water) that were correct (ground truth = 1 = water)\n",
    "    - FNs are considered as the negative predictions (prediction = 1 = water) that weren't correct (ground truth = 0 = ground) <br><br>\n",
    "\n",
    "    These types of errors help us identify the performance of our models in a more concise way and depending on the problem they might have different importance level. For example in case where positive means positive to cancer a false negative prediction by the model proves to be fatal for the patient. However false positive could create some false worries and concerns that will are soon to be proved wrong by further medical examinations and doctors. In our case of course it does not really matter what type of error the model commits however we can draw conclusions on the balancifg of its decisions.\n",
    "\n",
    "3. Precision & recall:\n",
    "\n",
    "    It usually occurs that algorithms tend to to favor a particular class, which means that they mainly commit errors of mainly one type (either FPs or FNs). Thus, we can see that the Gaussian Naive Bayes algorithm tends to favor class 0 (ground pixels). This seems normal given that there exist many more pixels labeled as ground which assigns a higher priors to the distribution of the ground pixels and even if I tried to change the priors, not much improvement occured. This behaviour of a model is vital to be examined in case that one class is more important to be predicted than another (e.g deadly disease detection such as cancer) or when classes are heavily imbalanced. It is also obvious that such behaviour cannot be depicted by the accuracy measure, and therefore we need more sophisticated metrics. These metrics are **precision** and **recall** which refer to scoring concerning each seperate class. <br><br>\n",
    " $$ recall = \\frac{TP}{TP+FN} $$ <br>\n",
    " $$ precision =  \\frac{TP}{TP+FN} $$  \n",
    "For example high recall score for one class means that the model tends to locate every single occurence of this particular class in the sample and labels it correctly. However this is not enough as an evaluation metric if we imagine a model that always predicts this class for any input. This deficit is solved by the precision metric that measures the ratio of correct positive prediction over the total number of predictions. F1 score is the harmonic mean of the abovementioned metrics and is a more generic metric that evaluates the models much more accurately than the accuracy metric. These metrics prove to be very useful mainly when we deal with heavily imbalanced datasets or unequally important classes."
   ]
  },
  {
   "cell_type": "code",
   "execution_count": null,
   "metadata": {},
   "outputs": [],
   "source": []
  }
 ],
 "metadata": {
  "kernelspec": {
   "display_name": "Python 3",
   "language": "python",
   "name": "python3"
  },
  "language_info": {
   "codemirror_mode": {
    "name": "ipython",
    "version": 3
   },
   "file_extension": ".py",
   "mimetype": "text/x-python",
   "name": "python",
   "nbconvert_exporter": "python",
   "pygments_lexer": "ipython3",
   "version": "3.8.2"
  }
 },
 "nbformat": 4,
 "nbformat_minor": 4
}
